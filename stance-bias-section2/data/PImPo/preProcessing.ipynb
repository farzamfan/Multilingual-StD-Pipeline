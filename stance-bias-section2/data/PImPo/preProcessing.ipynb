{
 "cells": [
  {
   "cell_type": "code",
   "execution_count": 1,
   "metadata": {
    "collapsed": true
   },
   "outputs": [],
   "source": [
    "import os\n",
    "import pandas as pd\n",
    "import numpy as np"
   ]
  },
  {
   "cell_type": "code",
   "execution_count": 2,
   "outputs": [
    {
     "data": {
      "text/plain": "          country                     party  \\\n0          sweden  swe: Green Ecology Party   \n1          sweden  swe: Green Ecology Party   \n2          sweden  swe: Green Ecology Party   \n3          sweden  swe: Green Ecology Party   \n4          sweden  swe: Green Ecology Party   \n...           ...                       ...   \n8955  new zealand          nzl: Maori Party   \n8956  new zealand          nzl: Maori Party   \n8957  new zealand          nzl: Maori Party   \n8958  new zealand           nzl: Mana Party   \n8959  new zealand           nzl: Mana Party   \n\n                                                content       target stance  \n0     Vi vill ge människor möjligheten att leva i et...  Integration  FAVOR  \n1     och där lika rättigheter för alla är en självk...  Integration  FAVOR  \n2                     Flyktingpolitiken ska göras human  Immigration  FAVOR  \n3     Förslagen i vårt valmanifest grundar sig i en ...  Immigration  FAVOR  \n4     Alla barn har rätt till ett liv i kärlek, resp...  Integration  FAVOR  \n...                                                 ...          ...    ...  \n8955  The Office of the Controller and Auditor Gener...  Integration   NONE  \n8956  In return, we expect services to meet the need...  Integration  FAVOR  \n8957  All new citizens to complete a course in the h...  Integration   NONE  \n8958  Maori, Pasifika and migrant peoples are dispro...  Integration  FAVOR  \n8959  including for Maori, Pasifika and migrant work...  Integration  FAVOR  \n\n[8960 rows x 5 columns]",
      "text/html": "<div>\n<style scoped>\n    .dataframe tbody tr th:only-of-type {\n        vertical-align: middle;\n    }\n\n    .dataframe tbody tr th {\n        vertical-align: top;\n    }\n\n    .dataframe thead th {\n        text-align: right;\n    }\n</style>\n<table border=\"1\" class=\"dataframe\">\n  <thead>\n    <tr style=\"text-align: right;\">\n      <th></th>\n      <th>country</th>\n      <th>party</th>\n      <th>content</th>\n      <th>target</th>\n      <th>stance</th>\n    </tr>\n  </thead>\n  <tbody>\n    <tr>\n      <th>0</th>\n      <td>sweden</td>\n      <td>swe: Green Ecology Party</td>\n      <td>Vi vill ge människor möjligheten att leva i et...</td>\n      <td>Integration</td>\n      <td>FAVOR</td>\n    </tr>\n    <tr>\n      <th>1</th>\n      <td>sweden</td>\n      <td>swe: Green Ecology Party</td>\n      <td>och där lika rättigheter för alla är en självk...</td>\n      <td>Integration</td>\n      <td>FAVOR</td>\n    </tr>\n    <tr>\n      <th>2</th>\n      <td>sweden</td>\n      <td>swe: Green Ecology Party</td>\n      <td>Flyktingpolitiken ska göras human</td>\n      <td>Immigration</td>\n      <td>FAVOR</td>\n    </tr>\n    <tr>\n      <th>3</th>\n      <td>sweden</td>\n      <td>swe: Green Ecology Party</td>\n      <td>Förslagen i vårt valmanifest grundar sig i en ...</td>\n      <td>Immigration</td>\n      <td>FAVOR</td>\n    </tr>\n    <tr>\n      <th>4</th>\n      <td>sweden</td>\n      <td>swe: Green Ecology Party</td>\n      <td>Alla barn har rätt till ett liv i kärlek, resp...</td>\n      <td>Integration</td>\n      <td>FAVOR</td>\n    </tr>\n    <tr>\n      <th>...</th>\n      <td>...</td>\n      <td>...</td>\n      <td>...</td>\n      <td>...</td>\n      <td>...</td>\n    </tr>\n    <tr>\n      <th>8955</th>\n      <td>new zealand</td>\n      <td>nzl: Maori Party</td>\n      <td>The Office of the Controller and Auditor Gener...</td>\n      <td>Integration</td>\n      <td>NONE</td>\n    </tr>\n    <tr>\n      <th>8956</th>\n      <td>new zealand</td>\n      <td>nzl: Maori Party</td>\n      <td>In return, we expect services to meet the need...</td>\n      <td>Integration</td>\n      <td>FAVOR</td>\n    </tr>\n    <tr>\n      <th>8957</th>\n      <td>new zealand</td>\n      <td>nzl: Maori Party</td>\n      <td>All new citizens to complete a course in the h...</td>\n      <td>Integration</td>\n      <td>NONE</td>\n    </tr>\n    <tr>\n      <th>8958</th>\n      <td>new zealand</td>\n      <td>nzl: Mana Party</td>\n      <td>Maori, Pasifika and migrant peoples are dispro...</td>\n      <td>Integration</td>\n      <td>FAVOR</td>\n    </tr>\n    <tr>\n      <th>8959</th>\n      <td>new zealand</td>\n      <td>nzl: Mana Party</td>\n      <td>including for Maori, Pasifika and migrant work...</td>\n      <td>Integration</td>\n      <td>FAVOR</td>\n    </tr>\n  </tbody>\n</table>\n<p>8960 rows × 5 columns</p>\n</div>"
     },
     "execution_count": 2,
     "metadata": {},
     "output_type": "execute_result"
    }
   ],
   "source": [
    "# reading the dataset\n",
    "PImPo = pd.read_csv(\"PImPo.csv\",delimiter=\";\")\n",
    "PImPo.rename(columns={\"Unnamed: 0\":\"id\",1:\"country\",2:\"party\",3:\"content\",4:\"target\",5:\"stance\"},inplace=True)\n",
    "PImPo.drop(columns=[\"id\"],inplace=True)\n",
    "PImPo"
   ],
   "metadata": {
    "collapsed": false,
    "pycharm": {
     "name": "#%%\n"
    }
   }
  },
  {
   "cell_type": "code",
   "execution_count": 47,
   "outputs": [],
   "source": [
    "# use for additional filters\n",
    "country = \"norway\"\n",
    "PImPo = PImPo.loc[PImPo[\"country\"]==country].drop(columns=[\"country\"])"
   ],
   "metadata": {
    "collapsed": false,
    "pycharm": {
     "name": "#%%\n"
    }
   }
  },
  {
   "cell_type": "code",
   "execution_count": 3,
   "outputs": [],
   "source": [
    "# use for test/train split\n",
    "from sklearn.model_selection import train_test_split\n",
    "PImPo_train, PImPo_test = train_test_split(PImPo,test_size=0.1,stratify=PImPo.stance)"
   ],
   "metadata": {
    "collapsed": false,
    "pycharm": {
     "name": "#%%\n"
    }
   }
  },
  {
   "cell_type": "code",
   "execution_count": 49,
   "outputs": [],
   "source": [
    "if not os.path.exists(\"./\"+country):\n",
    "    os.mkdir(\"./\"+country)"
   ],
   "metadata": {
    "collapsed": false,
    "pycharm": {
     "name": "#%%\n"
    }
   }
  },
  {
   "cell_type": "code",
   "execution_count": 6,
   "outputs": [],
   "source": [
    "PImPo_train.to_csv(country+\"/train.csv\",index=False)\n",
    "PImPo_test.to_csv(country+\"/test.csv\",index=False)\n",
    "\n"
   ],
   "metadata": {
    "collapsed": false,
    "pycharm": {
     "name": "#%%\n"
    }
   }
  },
  {
   "cell_type": "code",
   "execution_count": 51,
   "outputs": [],
   "source": [
    "# PImPo.country.value_counts()"
   ],
   "metadata": {
    "collapsed": false,
    "pycharm": {
     "name": "#%%\n"
    }
   }
  },
  {
   "cell_type": "code",
   "execution_count": null,
   "outputs": [],
   "source": [],
   "metadata": {
    "collapsed": false,
    "pycharm": {
     "name": "#%%\n"
    }
   }
  }
 ],
 "metadata": {
  "kernelspec": {
   "display_name": "Python 3",
   "language": "python",
   "name": "python3"
  },
  "language_info": {
   "codemirror_mode": {
    "name": "ipython",
    "version": 2
   },
   "file_extension": ".py",
   "mimetype": "text/x-python",
   "name": "python",
   "nbconvert_exporter": "python",
   "pygments_lexer": "ipython2",
   "version": "2.7.6"
  }
 },
 "nbformat": 4,
 "nbformat_minor": 0
}