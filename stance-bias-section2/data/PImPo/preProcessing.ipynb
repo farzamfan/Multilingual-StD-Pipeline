{
 "cells": [
  {
   "cell_type": "code",
   "execution_count": 1,
   "metadata": {
    "collapsed": true
   },
   "outputs": [],
   "source": [
    "import os\n",
    "import pandas as pd\n",
    "import numpy as np"
   ]
  },
  {
   "cell_type": "code",
   "execution_count": 28,
   "outputs": [
    {
     "data": {
      "text/plain": "          country                     party  \\\n0          sweden  swe: Green Ecology Party   \n1          sweden  swe: Green Ecology Party   \n2          sweden  swe: Green Ecology Party   \n3          sweden  swe: Green Ecology Party   \n4          sweden  swe: Green Ecology Party   \n...           ...                       ...   \n8955  new zealand          nzl: Maori Party   \n8956  new zealand          nzl: Maori Party   \n8957  new zealand          nzl: Maori Party   \n8958  new zealand           nzl: Mana Party   \n8959  new zealand           nzl: Mana Party   \n\n                                                content       target stance  \n0     Vi vill ge människor möjligheten att leva i et...  Integration  FAVOR  \n1     och där lika rättigheter för alla är en självk...  Integration  FAVOR  \n2                     Flyktingpolitiken ska göras human  Immigration  FAVOR  \n3     Förslagen i vårt valmanifest grundar sig i en ...  Immigration  FAVOR  \n4     Alla barn har rätt till ett liv i kärlek, resp...  Integration  FAVOR  \n...                                                 ...          ...    ...  \n8955  The Office of the Controller and Auditor Gener...  Integration   NONE  \n8956  In return, we expect services to meet the need...  Integration  FAVOR  \n8957  All new citizens to complete a course in the h...  Integration   NONE  \n8958  Maori, Pasifika and migrant peoples are dispro...  Integration  FAVOR  \n8959  including for Maori, Pasifika and migrant work...  Integration  FAVOR  \n\n[8960 rows x 5 columns]",
      "text/html": "<div>\n<style scoped>\n    .dataframe tbody tr th:only-of-type {\n        vertical-align: middle;\n    }\n\n    .dataframe tbody tr th {\n        vertical-align: top;\n    }\n\n    .dataframe thead th {\n        text-align: right;\n    }\n</style>\n<table border=\"1\" class=\"dataframe\">\n  <thead>\n    <tr style=\"text-align: right;\">\n      <th></th>\n      <th>country</th>\n      <th>party</th>\n      <th>content</th>\n      <th>target</th>\n      <th>stance</th>\n    </tr>\n  </thead>\n  <tbody>\n    <tr>\n      <th>0</th>\n      <td>sweden</td>\n      <td>swe: Green Ecology Party</td>\n      <td>Vi vill ge människor möjligheten att leva i et...</td>\n      <td>Integration</td>\n      <td>FAVOR</td>\n    </tr>\n    <tr>\n      <th>1</th>\n      <td>sweden</td>\n      <td>swe: Green Ecology Party</td>\n      <td>och där lika rättigheter för alla är en självk...</td>\n      <td>Integration</td>\n      <td>FAVOR</td>\n    </tr>\n    <tr>\n      <th>2</th>\n      <td>sweden</td>\n      <td>swe: Green Ecology Party</td>\n      <td>Flyktingpolitiken ska göras human</td>\n      <td>Immigration</td>\n      <td>FAVOR</td>\n    </tr>\n    <tr>\n      <th>3</th>\n      <td>sweden</td>\n      <td>swe: Green Ecology Party</td>\n      <td>Förslagen i vårt valmanifest grundar sig i en ...</td>\n      <td>Immigration</td>\n      <td>FAVOR</td>\n    </tr>\n    <tr>\n      <th>4</th>\n      <td>sweden</td>\n      <td>swe: Green Ecology Party</td>\n      <td>Alla barn har rätt till ett liv i kärlek, resp...</td>\n      <td>Integration</td>\n      <td>FAVOR</td>\n    </tr>\n    <tr>\n      <th>...</th>\n      <td>...</td>\n      <td>...</td>\n      <td>...</td>\n      <td>...</td>\n      <td>...</td>\n    </tr>\n    <tr>\n      <th>8955</th>\n      <td>new zealand</td>\n      <td>nzl: Maori Party</td>\n      <td>The Office of the Controller and Auditor Gener...</td>\n      <td>Integration</td>\n      <td>NONE</td>\n    </tr>\n    <tr>\n      <th>8956</th>\n      <td>new zealand</td>\n      <td>nzl: Maori Party</td>\n      <td>In return, we expect services to meet the need...</td>\n      <td>Integration</td>\n      <td>FAVOR</td>\n    </tr>\n    <tr>\n      <th>8957</th>\n      <td>new zealand</td>\n      <td>nzl: Maori Party</td>\n      <td>All new citizens to complete a course in the h...</td>\n      <td>Integration</td>\n      <td>NONE</td>\n    </tr>\n    <tr>\n      <th>8958</th>\n      <td>new zealand</td>\n      <td>nzl: Mana Party</td>\n      <td>Maori, Pasifika and migrant peoples are dispro...</td>\n      <td>Integration</td>\n      <td>FAVOR</td>\n    </tr>\n    <tr>\n      <th>8959</th>\n      <td>new zealand</td>\n      <td>nzl: Mana Party</td>\n      <td>including for Maori, Pasifika and migrant work...</td>\n      <td>Integration</td>\n      <td>FAVOR</td>\n    </tr>\n  </tbody>\n</table>\n<p>8960 rows × 5 columns</p>\n</div>"
     },
     "execution_count": 28,
     "metadata": {},
     "output_type": "execute_result"
    }
   ],
   "source": [
    "# reading the dataset\n",
    "PImPo = pd.read_csv(\"PImPo.csv\",delimiter=\";\")\n",
    "PImPo.rename(columns={\"Unnamed: 0\":\"id\",1:\"country\",2:\"party\",3:\"content\",4:\"target\",5:\"stance\"},inplace=True)\n",
    "PImPo.drop(columns=[\"id\"],inplace=True)\n",
    "PImPo"
   ],
   "metadata": {
    "collapsed": false,
    "pycharm": {
     "name": "#%%\n"
    }
   }
  },
  {
   "cell_type": "code",
   "execution_count": 47,
   "outputs": [],
   "source": [
    "# use for additional filters\n",
    "country = \"norway\"\n",
    "PImPo = PImPo.loc[PImPo[\"country\"]==country].drop(columns=[\"country\"])\n",
    "\n",
    "if not os.path.exists(\"./\"+country):\n",
    "    os.mkdir(\"./\"+country)"
   ],
   "metadata": {
    "collapsed": false,
    "pycharm": {
     "name": "#%%\n"
    }
   }
  },
  {
   "cell_type": "code",
   "execution_count": 29,
   "outputs": [],
   "source": [
    "# no country\n",
    "country = \"all\"\n",
    "PImPo = PImPo.drop(columns=[\"country\"])"
   ],
   "metadata": {
    "collapsed": false,
    "pycharm": {
     "name": "#%%\n"
    }
   }
  },
  {
   "cell_type": "code",
   "execution_count": 30,
   "outputs": [],
   "source": [
    "# use for test/train split\n",
    "from sklearn.model_selection import train_test_split\n",
    "PImPo_train, PImPo_test = train_test_split(PImPo,test_size=0.1)"
   ],
   "metadata": {
    "collapsed": false,
    "pycharm": {
     "name": "#%%\n"
    }
   }
  },
  {
   "cell_type": "code",
   "execution_count": 31,
   "outputs": [],
   "source": [
    "PImPo_train.to_csv(country+\"/train.csv\",index=False, sep=\",\")\n",
    "PImPo_test.to_csv(country+\"/test.csv\",index=False, sep=\",\")\n",
    "\n"
   ],
   "metadata": {
    "collapsed": false,
    "pycharm": {
     "name": "#%%\n"
    }
   }
  },
  {
   "cell_type": "code",
   "execution_count": 32,
   "outputs": [
    {
     "data": {
      "text/plain": "                                                party  \\\n3231                    nld: Reformed Political Party   \n2695                                  nld: Green Left   \n198               swe: Social Democratic Labour Party   \n3742                             nld: Christian Union   \n6407                          deu: Alliance‘90/Greens   \n...                                               ...   \n1094                        nor: Socialist Left Party   \n6794  deu: Christian Democratic Union/C.Social Union    \n6739                       deu: Free Democratic Party   \n6301                          deu: Alliance‘90/Greens   \n8522                            usa: Democratic Party   \n\n                                                content       target   stance  \n3231  Gebeuren er op islamitische scholen of in mosk...  Integration  AGAINST  \n2695  Jongeren, vrouwen en migranten krijgen meer ka...  Integration    FAVOR  \n198   Alla arbetstagare ska behandlas lika, oavsett ...  Integration    FAVOR  \n3742  De uitvoering van de pardonregeling heeft gele...  Immigration     NONE  \n6407  Da die Konflikte in Afghanistan nicht militäri...  Immigration    FAVOR  \n...                                                 ...          ...      ...  \n1094  SV vil styrke arbeidet for å sikre alle barn e...  Integration    FAVOR  \n6794  Leider gibt es eine wachsende Zahl von Kindern...  Integration     NONE  \n6739  -   Deutschland hat die Bemühungen um die Verb...  Immigration    FAVOR  \n6301           Wir wollen die Abschiebehaft abschaffen.  Immigration  AGAINST  \n8522  The creation of a Palestinian state should res...  Immigration     NONE  \n\n[8064 rows x 4 columns]",
      "text/html": "<div>\n<style scoped>\n    .dataframe tbody tr th:only-of-type {\n        vertical-align: middle;\n    }\n\n    .dataframe tbody tr th {\n        vertical-align: top;\n    }\n\n    .dataframe thead th {\n        text-align: right;\n    }\n</style>\n<table border=\"1\" class=\"dataframe\">\n  <thead>\n    <tr style=\"text-align: right;\">\n      <th></th>\n      <th>party</th>\n      <th>content</th>\n      <th>target</th>\n      <th>stance</th>\n    </tr>\n  </thead>\n  <tbody>\n    <tr>\n      <th>3231</th>\n      <td>nld: Reformed Political Party</td>\n      <td>Gebeuren er op islamitische scholen of in mosk...</td>\n      <td>Integration</td>\n      <td>AGAINST</td>\n    </tr>\n    <tr>\n      <th>2695</th>\n      <td>nld: Green Left</td>\n      <td>Jongeren, vrouwen en migranten krijgen meer ka...</td>\n      <td>Integration</td>\n      <td>FAVOR</td>\n    </tr>\n    <tr>\n      <th>198</th>\n      <td>swe: Social Democratic Labour Party</td>\n      <td>Alla arbetstagare ska behandlas lika, oavsett ...</td>\n      <td>Integration</td>\n      <td>FAVOR</td>\n    </tr>\n    <tr>\n      <th>3742</th>\n      <td>nld: Christian Union</td>\n      <td>De uitvoering van de pardonregeling heeft gele...</td>\n      <td>Immigration</td>\n      <td>NONE</td>\n    </tr>\n    <tr>\n      <th>6407</th>\n      <td>deu: Alliance‘90/Greens</td>\n      <td>Da die Konflikte in Afghanistan nicht militäri...</td>\n      <td>Immigration</td>\n      <td>FAVOR</td>\n    </tr>\n    <tr>\n      <th>...</th>\n      <td>...</td>\n      <td>...</td>\n      <td>...</td>\n      <td>...</td>\n    </tr>\n    <tr>\n      <th>1094</th>\n      <td>nor: Socialist Left Party</td>\n      <td>SV vil styrke arbeidet for å sikre alle barn e...</td>\n      <td>Integration</td>\n      <td>FAVOR</td>\n    </tr>\n    <tr>\n      <th>6794</th>\n      <td>deu: Christian Democratic Union/C.Social Union</td>\n      <td>Leider gibt es eine wachsende Zahl von Kindern...</td>\n      <td>Integration</td>\n      <td>NONE</td>\n    </tr>\n    <tr>\n      <th>6739</th>\n      <td>deu: Free Democratic Party</td>\n      <td>-   Deutschland hat die Bemühungen um die Verb...</td>\n      <td>Immigration</td>\n      <td>FAVOR</td>\n    </tr>\n    <tr>\n      <th>6301</th>\n      <td>deu: Alliance‘90/Greens</td>\n      <td>Wir wollen die Abschiebehaft abschaffen.</td>\n      <td>Immigration</td>\n      <td>AGAINST</td>\n    </tr>\n    <tr>\n      <th>8522</th>\n      <td>usa: Democratic Party</td>\n      <td>The creation of a Palestinian state should res...</td>\n      <td>Immigration</td>\n      <td>NONE</td>\n    </tr>\n  </tbody>\n</table>\n<p>8064 rows × 4 columns</p>\n</div>"
     },
     "execution_count": 32,
     "metadata": {},
     "output_type": "execute_result"
    }
   ],
   "source": [
    "PImPo_train"
   ],
   "metadata": {
    "collapsed": false,
    "pycharm": {
     "name": "#%%\n"
    }
   }
  },
  {
   "cell_type": "code",
   "execution_count": null,
   "outputs": [],
   "source": [],
   "metadata": {
    "collapsed": false,
    "pycharm": {
     "name": "#%%\n"
    }
   }
  }
 ],
 "metadata": {
  "kernelspec": {
   "display_name": "Python 3",
   "language": "python",
   "name": "python3"
  },
  "language_info": {
   "codemirror_mode": {
    "name": "ipython",
    "version": 2
   },
   "file_extension": ".py",
   "mimetype": "text/x-python",
   "name": "python",
   "nbconvert_exporter": "python",
   "pygments_lexer": "ipython2",
   "version": "2.7.6"
  }
 },
 "nbformat": 4,
 "nbformat_minor": 0
}