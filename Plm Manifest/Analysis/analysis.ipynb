{
 "cells": [
  {
   "cell_type": "code",
   "execution_count": 1,
   "metadata": {
    "collapsed": true,
    "pycharm": {
     "name": "#%%\n"
    }
   },
   "outputs": [],
   "source": [
    "import json, os, sys, re, glob, csv\n",
    "import pandas as pd\n",
    "import numpy as np\n"
   ]
  },
  {
   "cell_type": "code",
   "execution_count": 23,
   "outputs": [],
   "source": [
    "def readcsv(filename, delim, split):\n",
    "    dataset = []\n",
    "    with open(filename, 'r', encoding='utf-8', errors=\"surrogateescape\") as f:\n",
    "        reader = csv.reader(f, delimiter=delim)\n",
    "        for i, row in enumerate(reader):\n",
    "            if split == 'test':\n",
    "                dataset.append([row[0], row[2], row[1], row[3]])\n",
    "            else:\n",
    "                # if row[1] == 'Donald Trump':\n",
    "                #     continue\n",
    "                dataset.append([split + \"_\" + str(i)] + row[2:5])\n",
    "    return dataset[1:]"
   ],
   "metadata": {
    "collapsed": false,
    "pycharm": {
     "name": "#%%\n"
    }
   }
  },
  {
   "cell_type": "code",
   "execution_count": 31,
   "outputs": [],
   "source": [
    "df = pd.DataFrame(readcsv(\"PImPo/se16/se16.csv\",delim=\";\",split=\"train\"))\n",
    "df.to_csv(\"train.csv\",encoding=\"utf-8\",index=False,errors='surrogatepass',header=False)"
   ],
   "metadata": {
    "collapsed": false,
    "pycharm": {
     "name": "#%%\n"
    }
   }
  },
  {
   "cell_type": "code",
   "execution_count": null,
   "outputs": [],
   "source": [],
   "metadata": {
    "collapsed": false,
    "pycharm": {
     "name": "#%%\n"
    }
   }
  }
 ],
 "metadata": {
  "kernelspec": {
   "display_name": "Python 3",
   "language": "python",
   "name": "python3"
  },
  "language_info": {
   "codemirror_mode": {
    "name": "ipython",
    "version": 2
   },
   "file_extension": ".py",
   "mimetype": "text/x-python",
   "name": "python",
   "nbconvert_exporter": "python",
   "pygments_lexer": "ipython2",
   "version": "2.7.6"
  }
 },
 "nbformat": 4,
 "nbformat_minor": 0
}