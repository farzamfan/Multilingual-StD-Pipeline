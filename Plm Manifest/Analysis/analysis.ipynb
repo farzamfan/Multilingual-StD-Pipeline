{
 "cells": [
  {
   "cell_type": "code",
   "execution_count": 11,
   "metadata": {
    "collapsed": true,
    "pycharm": {
     "name": "#%%\n"
    }
   },
   "outputs": [],
   "source": [
    "import json, os, sys, re, glob, csv\n",
    "import pandas as pd\n",
    "import numpy as np"
   ]
  },
  {
   "cell_type": "code",
   "execution_count": 12,
   "outputs": [
    {
     "data": {
      "text/plain": "                                               tweet_id  \\\n0                                               train_1   \n1                                               train_2   \n2                                               train_3   \n3                                               train_4   \n4                                               train_5   \n...                                                 ...   \n4865  @realDonaldTrump we all want you as the next p...   \n4866  @RSherman_25 Join Twitter Trump brigade #oneth...   \n4867  @JoeyBats19 Join Twitter Trump brigade #onetho...   \n4868  Trump's outlandish statements is political str...   \n4869  @RMConservative @DagnyRed ,P.C. is out of cont...   \n\n                                                   text           target  \\\n0     [@tedcruz, And, ,, Hand, Over, The, Server, sh...  Hillary Clinton   \n1     [Hillary, is, our, best, choice, if, we, truly...  Hillary Clinton   \n2     [@TheView, I, think, our, country, is, ready, ...  Hillary Clinton   \n3     [I, just, gave, an, unhealthy, amount, of, my,...  Hillary Clinton   \n4     [@PortiaABoulger, Thank, you, for, adding, me,...  Hillary Clinton   \n...                                                 ...              ...   \n4865                                            [FAVOR]     Donald Trump   \n4866                                            [FAVOR]     Donald Trump   \n4867                                            [FAVOR]     Donald Trump   \n4868                                          [AGAINST]     Donald Trump   \n4869                                             [NONE]     Donald Trump   \n\n      split                                             stance  \n0     train                                            AGAINST  \n1     train                                              FAVOR  \n2     train                                            AGAINST  \n3     train                                            AGAINST  \n4     train                                               NONE  \n...     ...                                                ...  \n4865   test  1.  The tweet explicitly expresses opinion abo...  \n4866   test  1.  The tweet explicitly expresses opinion abo...  \n4867   test  1.  The tweet explicitly expresses opinion abo...  \n4868   test  1.  The tweet explicitly expresses opinion abo...  \n4869   test  2. The tweet does NOT expresses opinion about ...  \n\n[4870 rows x 5 columns]",
      "text/html": "<div>\n<style scoped>\n    .dataframe tbody tr th:only-of-type {\n        vertical-align: middle;\n    }\n\n    .dataframe tbody tr th {\n        vertical-align: top;\n    }\n\n    .dataframe thead th {\n        text-align: right;\n    }\n</style>\n<table border=\"1\" class=\"dataframe\">\n  <thead>\n    <tr style=\"text-align: right;\">\n      <th></th>\n      <th>tweet_id</th>\n      <th>text</th>\n      <th>target</th>\n      <th>split</th>\n      <th>stance</th>\n    </tr>\n  </thead>\n  <tbody>\n    <tr>\n      <th>0</th>\n      <td>train_1</td>\n      <td>[@tedcruz, And, ,, Hand, Over, The, Server, sh...</td>\n      <td>Hillary Clinton</td>\n      <td>train</td>\n      <td>AGAINST</td>\n    </tr>\n    <tr>\n      <th>1</th>\n      <td>train_2</td>\n      <td>[Hillary, is, our, best, choice, if, we, truly...</td>\n      <td>Hillary Clinton</td>\n      <td>train</td>\n      <td>FAVOR</td>\n    </tr>\n    <tr>\n      <th>2</th>\n      <td>train_3</td>\n      <td>[@TheView, I, think, our, country, is, ready, ...</td>\n      <td>Hillary Clinton</td>\n      <td>train</td>\n      <td>AGAINST</td>\n    </tr>\n    <tr>\n      <th>3</th>\n      <td>train_4</td>\n      <td>[I, just, gave, an, unhealthy, amount, of, my,...</td>\n      <td>Hillary Clinton</td>\n      <td>train</td>\n      <td>AGAINST</td>\n    </tr>\n    <tr>\n      <th>4</th>\n      <td>train_5</td>\n      <td>[@PortiaABoulger, Thank, you, for, adding, me,...</td>\n      <td>Hillary Clinton</td>\n      <td>train</td>\n      <td>NONE</td>\n    </tr>\n    <tr>\n      <th>...</th>\n      <td>...</td>\n      <td>...</td>\n      <td>...</td>\n      <td>...</td>\n      <td>...</td>\n    </tr>\n    <tr>\n      <th>4865</th>\n      <td>@realDonaldTrump we all want you as the next p...</td>\n      <td>[FAVOR]</td>\n      <td>Donald Trump</td>\n      <td>test</td>\n      <td>1.  The tweet explicitly expresses opinion abo...</td>\n    </tr>\n    <tr>\n      <th>4866</th>\n      <td>@RSherman_25 Join Twitter Trump brigade #oneth...</td>\n      <td>[FAVOR]</td>\n      <td>Donald Trump</td>\n      <td>test</td>\n      <td>1.  The tweet explicitly expresses opinion abo...</td>\n    </tr>\n    <tr>\n      <th>4867</th>\n      <td>@JoeyBats19 Join Twitter Trump brigade #onetho...</td>\n      <td>[FAVOR]</td>\n      <td>Donald Trump</td>\n      <td>test</td>\n      <td>1.  The tweet explicitly expresses opinion abo...</td>\n    </tr>\n    <tr>\n      <th>4868</th>\n      <td>Trump's outlandish statements is political str...</td>\n      <td>[AGAINST]</td>\n      <td>Donald Trump</td>\n      <td>test</td>\n      <td>1.  The tweet explicitly expresses opinion abo...</td>\n    </tr>\n    <tr>\n      <th>4869</th>\n      <td>@RMConservative @DagnyRed ,P.C. is out of cont...</td>\n      <td>[NONE]</td>\n      <td>Donald Trump</td>\n      <td>test</td>\n      <td>2. The tweet does NOT expresses opinion about ...</td>\n    </tr>\n  </tbody>\n</table>\n<p>4870 rows × 5 columns</p>\n</div>"
     },
     "execution_count": 12,
     "metadata": {},
     "output_type": "execute_result"
    }
   ],
   "source": [
    "se16Json = pd.read_json(\"se16/se16.json\")\n",
    "se16Json"
   ],
   "metadata": {
    "collapsed": false,
    "pycharm": {
     "name": "#%%\n"
    }
   }
  },
  {
   "cell_type": "code",
   "execution_count": 13,
   "outputs": [],
   "source": [],
   "metadata": {
    "collapsed": false,
    "pycharm": {
     "name": "#%%\n"
    }
   }
  },
  {
   "cell_type": "code",
   "execution_count": null,
   "outputs": [],
   "source": [],
   "metadata": {
    "collapsed": false,
    "pycharm": {
     "name": "#%%\n"
    }
   }
  },
  {
   "cell_type": "code",
   "execution_count": null,
   "outputs": [],
   "source": [],
   "metadata": {
    "collapsed": false,
    "pycharm": {
     "name": "#%%\n"
    }
   }
  },
  {
   "cell_type": "code",
   "execution_count": null,
   "outputs": [],
   "source": [],
   "metadata": {
    "collapsed": false,
    "pycharm": {
     "name": "#%%\n"
    }
   }
  }
 ],
 "metadata": {
  "kernelspec": {
   "display_name": "Python 3",
   "language": "python",
   "name": "python3"
  },
  "language_info": {
   "codemirror_mode": {
    "name": "ipython",
    "version": 2
   },
   "file_extension": ".py",
   "mimetype": "text/x-python",
   "name": "python",
   "nbconvert_exporter": "python",
   "pygments_lexer": "ipython2",
   "version": "2.7.6"
  }
 },
 "nbformat": 4,
 "nbformat_minor": 0
}